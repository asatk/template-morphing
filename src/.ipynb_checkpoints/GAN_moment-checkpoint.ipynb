{
 "cells": [
  {
   "cell_type": "code",
   "execution_count": 1,
   "metadata": {},
   "outputs": [],
   "source": [
    "import torch\n",
    "from torch import nn\n",
    "\n",
    "import json\n",
    "import math\n",
    "import numpy as np\n",
    "import matplotlib.pyplot as plt\n",
    "from mpl_toolkits.mplot3d import Axes3D\n",
    "\n",
    "import ROOT\n",
    "\n",
    "import GAN\n",
    "from defs import PROJECT_DIR\n",
    "from defs import file_path_check"
   ]
  },
  {
   "cell_type": "code",
   "execution_count": 2,
   "metadata": {},
   "outputs": [],
   "source": [
    "c = ROOT.TCanvas(\"c\",\"2D plot\",600,600)\n",
    "c.cd()\n",
    "\n",
    "output_file = PROJECT_DIR+\"/out/moments/2DGaus.json\"\n",
    "\n",
    "# histogram parameters\n",
    "xbins = 100\n",
    "xlo = 250\n",
    "xhi = 1250\n",
    "ybins = 100\n",
    "ylo = 0.25\n",
    "yhi = 2.0\n",
    "draw_opt = \"LEGO30\"\n",
    "\n",
    "hs = ROOT.THStack(\"hs\",\"2D Moment Morph\")\n",
    "\n",
    "# drawing variables and cuts\n",
    "phi_var = \"Obj_PhotonTwoProng.mass\"\n",
    "omega_var = \"TwoProng_MassPi0[0]\"\n",
    "draw_str = omega_var+\":\"+phi_var+\">>hist_2D_i\"\n",
    "cut_str = \"nTwoProngs>0 && nIDPhotons>0 && Obj_PhotonTwoProng.dR>0.1 && Obj_PhotonTwoProng.part2_pt>150\"\n",
    "\n",
    "# Tree name in Ntuplizer files\n",
    "tree_name = \"twoprongNtuplizer/fTree\""
   ]
  },
  {
   "cell_type": "code",
   "execution_count": 3,
   "metadata": {},
   "outputs": [],
   "source": [
    "file_list = [\n",
    "    \"${PROJECT_DIR}/root/Feb2021_PH-0500_OM-0p550.root\",\n",
    "#     \"${PROJECT_DIR}/root/Feb2021_PH-0500_OM-0p950.root\",\n",
    "#     \"${PROJECT_DIR}/root/Feb2021_PH-1000_OM-0p550.root\",\n",
    "#     \"${PROJECT_DIR}/root/Feb2021_PH-1000_OM-0p950.root\"\n",
    "]\n",
    "\n",
    "mass_list = [\n",
    "    (500,0.55),\n",
    "#     (500,0.95),\n",
    "#     (1000,0.55),\n",
    "#     (1000,0.95)\n",
    "]\n",
    "\n",
    "file_dict = {}\n",
    "if len(file_list) != len(mass_list):\n",
    "    print \"list of root files and list of mass points are not the same length:\"\n",
    "    print \"file_list: %i\\tmass_list: %i\"%(len(file_list),len(mass_list))\n",
    "    quit()\n",
    "# validate that all root files exist\n",
    "for i in range(len(file_list)):\n",
    "    f = file_path_check(file_list[i])\n",
    "    file_dict[f] = mass_list[i]"
   ]
  },
  {
   "cell_type": "code",
   "execution_count": 4,
   "metadata": {},
   "outputs": [],
   "source": [
    "def __thresh(hist,threshold=0.05):\n",
    "    # cut out small bins\n",
    "    hist_max = hist.GetBinContent(hist.GetMaximumBin())\n",
    "    for bin_x in range(hist.GetNbinsX()):\n",
    "        for bin_y in range(hist.GetNbinsY()):\n",
    "            if hist.GetBinContent(bin_x,bin_y) < threshold*hist_max:\n",
    "                hist.SetBinContent(bin_x,bin_y,0.)"
   ]
  },
  {
   "cell_type": "code",
   "execution_count": 5,
   "metadata": {},
   "outputs": [],
   "source": [
    "moment_list = {}\n",
    "\n",
    "# estimate 1st and 2nd gaussian moments for each distribution\n",
    "for i,f in enumerate(file_dict.keys()):\n",
    "\n",
    "    hist_2D_i = ROOT.TH2D(\"hist_2D_i\",\"hist_2D_i\",xbins,xlo,xhi,ybins,ylo,yhi)\n",
    "    hist_2D_i.SetFillColor(22+(i-1)*8)\n",
    "#     hist_2D_i.GetXaxis().SetTitle(\"PHI\")\n",
    "#     hist_2D_i.GetYaxis().SetTitle(\"OsMEGA\")\n",
    "\n",
    "    # draw .root data into histogram\n",
    "    chain = ROOT.TChain(tree_name)\n",
    "    chain.Add(f)\n",
    "    chain.Draw(draw_str,cut_str,\"goff\")\n",
    "\n",
    "    # remove non-peak bins\n",
    "    __thresh(hist_2D_i,threshold=0.10)\n",
    "\n",
    "    # normalize histogram\n",
    "    hist_2D_i.Scale(1./hist_2D_i.Integral())\n",
    "\n",
    "    # ROOT.gStyle.SetPalette(53+5*i)\n",
    "    hs.Add(hist_2D_i.Clone())\n",
    "\n",
    "    # fit histogram to 2D gaussian\n",
    "    xy_gaus_i = ROOT.TF2(\"xy_gaus_i\",\"xygaus\",xlo,xhi,ylo,yhi)\n",
    "    # xy_gaus_i.SetNpx(xbins)\n",
    "    # xy_gaus_i.SetNpy(ybins)\n",
    "    hist_2D_i.Fit(\"xy_gaus_i\",\"SM\")\n",
    "\n",
    "\n",
    "    # hist_2D_i.Draw(\"COLZ0\"+\"SAME\")\n",
    "    # c.Update()\n",
    "\n",
    "    # collect moments from parameters of 2D gaus fit\n",
    "    moments = {}\n",
    "\n",
    "    for i in range(1,xy_gaus_i.GetNpar()):\n",
    "        moments[xy_gaus_i.GetParName(i)] = xy_gaus_i.GetParameter(i)\n",
    "\n",
    "    # map mass to moments\n",
    "    phi_mass = file_dict[f][0]\n",
    "    omega_mass = file_dict[f][1]\n",
    "    coord_string = \"%4.1f,%1.2f\"%(phi_mass,omega_mass)\n",
    "    moment_list[coord_string] = moments\n",
    "    \n",
    "    # xy_gaus_i.Delete()\n",
    "    hist_2D_i.Delete()"
   ]
  },
  {
   "cell_type": "code",
   "execution_count": 6,
   "metadata": {},
   "outputs": [
    {
     "name": "stdout",
     "output_type": "stream",
     "text": [
      "{\n",
      "    \"500.0,0.55\": {\n",
      "        \"SigmaY\": 0.10768010217572185, \n",
      "        \"MeanX\": 493.35673492171054, \n",
      "        \"SigmaX\": 14.097526679322437, \n",
      "        \"MeanY\": 0.6048974085315212\n",
      "    }\n",
      "}\n"
     ]
    }
   ],
   "source": [
    "c.Clear()\n",
    "c.Update()\n",
    "# plotting\n",
    "hs.Draw(\"LEGO30\")\n",
    "c.Update()\n",
    "# hist_2D_tot.ShowPeaks(sigma=2,option=\"\",threshold=0.05)\n",
    "# c.Update()\n",
    "\n",
    "with open(output_file,'w') as json_out:\n",
    "    dump = json.dumps(moment_list,json_out,indent=4)\n",
    "    print dump"
   ]
  },
  {
   "cell_type": "code",
   "execution_count": 6,
   "metadata": {},
   "outputs": [],
   "source": [
    "torch.manual_seed(100)\n",
    "\n",
    "i=0\n",
    "hist_i = hs.GetHists()[i]\n",
    "xbins = hist_i.GetNbinsX()\n",
    "ybins = hist_i.GetNbinsY()\n",
    "\n",
    "train_data_length = xbins*ybins\n",
    "train_data = torch.zeros((train_data_length,3))\n",
    "\n",
    "xax = hist_i.GetXaxis()\n",
    "yax = hist_i.GetYaxis()\n",
    "\n",
    "lo = 0\n",
    "hi = 0\n",
    "\n",
    "count = 0\n",
    "for xbin in range(xbins):\n",
    "    x = xax.GetBinCenter(xbin)\n",
    "    train_data[count:count+ybins+1] = x\n",
    "#     print x\n",
    "    for ybin in range(ybins):\n",
    "        y = yax.GetBinCenter(ybin)\n",
    "        train_data[count,1] = y\n",
    "        train_data[count,2] = hist_i.GetBinContent(xbin,ybin)\n",
    "        count += 1\n",
    "#         print x,y,count,hist_i.GetBinContent(xbin,ybin)\n",
    "        \n",
    "\n",
    "\n",
    "# train_data[:,0] = 2*math.pi*torch.rand(train_data_length)\n",
    "# train_data[:,1] = torch.sin(train_data[:,0])\n",
    "\n",
    "train_labels = torch.zeros(train_data_length)\n",
    "train_set = [(train_data[i],train_labels[i]) for i in range(train_data_length)]"
   ]
  },
  {
   "cell_type": "code",
   "execution_count": 8,
   "metadata": {},
   "outputs": [
    {
     "data": {
      "image/png": "[encoded data removed]",
      "text/plain": [
       "<Figure size 576x216 with 1 Axes>"
      ]
     },
     "metadata": {
      "needs_background": "light"
     },
     "output_type": "display_data"
    }
   ],
   "source": [
    "#check if data is correctly transferred\n",
    "fig = plt.figure(figsize=(8,3))\n",
    "ax = fig.add_subplot(121,projection=\"3d\")\n",
    "\n",
    "x = train_data[:,0]\n",
    "y = train_data[:,1]\n",
    "\n",
    "width = (xlo-xhi)/xbins\n",
    "depth = (ylo-yhi)/ybins\n",
    "\n",
    "bottom = np.zeros(xbins*ybins)\n",
    "top = train_data[:,2]\n",
    "\n",
    "ax.bar3d(x,y,bottom,width,depth,top,shade=True)\n",
    "plt.show()\n",
    "\n",
    "# plt.contour(train_data[:,0],train_data[:,1])\n",
    "# plt.plot(train_data[:,0],train_data[:,2],\".\")\n",
    "# plt.plot(train_data[:,1],train_data[:,2],\".\")"
   ]
  },
  {
   "cell_type": "code",
   "execution_count": 7,
   "metadata": {},
   "outputs": [],
   "source": [
    "batch_size = 250\n",
    "train_loader = torch.utils.data.DataLoader(train_set,batch_size=batch_size,shuffle=True)\n",
    "\n",
    "generator = GAN.Generator()\n",
    "discriminator = GAN.Discriminator()\n",
    "\n",
    "lr = 0.001\n",
    "num_epochs = 500\n",
    "loss_function = nn.BCELoss()\n",
    "\n",
    "optimizer_generator = torch.optim.Adam(generator.parameters(),lr=lr)\n",
    "optimizer_discriminator = torch.optim.Adam(discriminator.parameters(),lr=lr)"
   ]
  },
  {
   "cell_type": "code",
   "execution_count": null,
   "metadata": {},
   "outputs": [],
   "source": [
    "for epoch in range(num_epochs):\n",
    "    for n, (real_samples,_) in enumerate(train_loader):\n",
    "        real_samples_labels = torch.ones((batch_size,1))\n",
    "        latent_space_samples = torch.randn((batch_size,3))\n",
    "        generated_samples = generator(latent_space_samples)\n",
    "        generated_samples_labels = torch.zeros((batch_size,1))\n",
    "        all_samples = torch.cat((real_samples,generated_samples))\n",
    "        all_samples_labels = torch.cat((real_samples_labels,generated_samples_labels))\n",
    "\n",
    "        discriminator.zero_grad()\n",
    "        output_discriminator = discriminator(all_samples)\n",
    "        loss_discriminator = loss_function(output_discriminator,all_samples_labels)\n",
    "        loss_discriminator.backward()\n",
    "        optimizer_discriminator.step()\n",
    "\n",
    "        latent_space_samples = torch.randn((batch_size,3))\n",
    "\n",
    "        generator.zero_grad()\n",
    "        generated_samples = generator(latent_space_samples)\n",
    "        output_discriminator_generated = discriminator(generated_samples)\n",
    "        loss_generator = loss_function(output_discriminator_generated,real_samples_labels)\n",
    "        loss_generator.backward()\n",
    "        optimizer_generator.step()\n",
    "\n",
    "        if epoch % 25 == 0 and n == batch_size - 1:\n",
    "            print \"Epoch: %i Loss D.: %f\"%(epoch,loss_discriminator)\n",
    "            print \"Epoch: %i Loss G.: %f\"%(epoch,loss_generator)"
   ]
  },
  {
   "cell_type": "code",
   "execution_count": 10,
   "metadata": {},
   "outputs": [
    {
     "ename": "ValueError",
     "evalue": "shape mismatch: objects cannot be broadcast to a single shape",
     "output_type": "error",
     "traceback": [
      "\u001b[0;31m----------------------------------------------------------------------\u001b[0m",
      "\u001b[0;31mValueError\u001b[0m                           Traceback (most recent call last)",
      "\u001b[0;32m<ipython-input-10-4c2194833438>\u001b[0m in \u001b[0;36m<module>\u001b[0;34m()\u001b[0m\n\u001b[1;32m     22\u001b[0m \u001b[0mtop\u001b[0m \u001b[0;34m=\u001b[0m \u001b[0mgenerated_samples\u001b[0m\u001b[0;34m[\u001b[0m\u001b[0;34m:\u001b[0m\u001b[0;34m,\u001b[0m\u001b[0;36m2\u001b[0m\u001b[0;34m]\u001b[0m\u001b[0;34m\u001b[0m\u001b[0m\n\u001b[1;32m     23\u001b[0m \u001b[0;34m\u001b[0m\u001b[0m\n\u001b[0;32m---> 24\u001b[0;31m \u001b[0max\u001b[0m\u001b[0;34m.\u001b[0m\u001b[0mbar3d\u001b[0m\u001b[0;34m(\u001b[0m\u001b[0mx\u001b[0m\u001b[0;34m,\u001b[0m\u001b[0my\u001b[0m\u001b[0;34m,\u001b[0m\u001b[0mbottom\u001b[0m\u001b[0;34m,\u001b[0m\u001b[0mwidth\u001b[0m\u001b[0;34m,\u001b[0m\u001b[0mdepth\u001b[0m\u001b[0;34m,\u001b[0m\u001b[0mtop\u001b[0m\u001b[0;34m,\u001b[0m\u001b[0mshade\u001b[0m\u001b[0;34m=\u001b[0m\u001b[0mTrue\u001b[0m\u001b[0;34m)\u001b[0m\u001b[0;34m\u001b[0m\u001b[0m\n\u001b[0m\u001b[1;32m     25\u001b[0m \u001b[0mplt\u001b[0m\u001b[0;34m.\u001b[0m\u001b[0mshow\u001b[0m\u001b[0;34m(\u001b[0m\u001b[0;34m)\u001b[0m\u001b[0;34m\u001b[0m\u001b[0m\n",
      "\u001b[0;32m/home/asatk/miniconda3/envs/cern2.7/lib/python2.7/site-packages/mpl_toolkits/mplot3d/axes3d.pyc\u001b[0m in \u001b[0;36mbar3d\u001b[0;34m(self, x, y, z, dx, dy, dz, color, zsort, shade, *args, **kwargs)\u001b[0m\n\u001b[1;32m   2484\u001b[0m \u001b[0;34m\u001b[0m\u001b[0m\n\u001b[1;32m   2485\u001b[0m         x, y, z, dx, dy, dz = np.broadcast_arrays(\n\u001b[0;32m-> 2486\u001b[0;31m             np.atleast_1d(x), y, z, dx, dy, dz)\n\u001b[0m\u001b[1;32m   2487\u001b[0m         \u001b[0mminx\u001b[0m \u001b[0;34m=\u001b[0m \u001b[0mnp\u001b[0m\u001b[0;34m.\u001b[0m\u001b[0mmin\u001b[0m\u001b[0;34m(\u001b[0m\u001b[0mx\u001b[0m\u001b[0;34m)\u001b[0m\u001b[0;34m\u001b[0m\u001b[0m\n\u001b[1;32m   2488\u001b[0m         \u001b[0mmaxx\u001b[0m \u001b[0;34m=\u001b[0m \u001b[0mnp\u001b[0m\u001b[0;34m.\u001b[0m\u001b[0mmax\u001b[0m\u001b[0;34m(\u001b[0m\u001b[0mx\u001b[0m \u001b[0;34m+\u001b[0m \u001b[0mdx\u001b[0m\u001b[0;34m)\u001b[0m\u001b[0;34m\u001b[0m\u001b[0m\n",
      "\u001b[0;32m/home/asatk/miniconda3/envs/cern2.7/lib/python2.7/site-packages/numpy/lib/stride_tricks.pyc\u001b[0m in \u001b[0;36mbroadcast_arrays\u001b[0;34m(*args, **kwargs)\u001b[0m\n\u001b[1;32m    250\u001b[0m     \u001b[0margs\u001b[0m \u001b[0;34m=\u001b[0m \u001b[0;34m[\u001b[0m\u001b[0mnp\u001b[0m\u001b[0;34m.\u001b[0m\u001b[0marray\u001b[0m\u001b[0;34m(\u001b[0m\u001b[0m_m\u001b[0m\u001b[0;34m,\u001b[0m \u001b[0mcopy\u001b[0m\u001b[0;34m=\u001b[0m\u001b[0mFalse\u001b[0m\u001b[0;34m,\u001b[0m \u001b[0msubok\u001b[0m\u001b[0;34m=\u001b[0m\u001b[0msubok\u001b[0m\u001b[0;34m)\u001b[0m \u001b[0;32mfor\u001b[0m \u001b[0m_m\u001b[0m \u001b[0;32min\u001b[0m \u001b[0margs\u001b[0m\u001b[0;34m]\u001b[0m\u001b[0;34m\u001b[0m\u001b[0m\n\u001b[1;32m    251\u001b[0m \u001b[0;34m\u001b[0m\u001b[0m\n\u001b[0;32m--> 252\u001b[0;31m     \u001b[0mshape\u001b[0m \u001b[0;34m=\u001b[0m \u001b[0m_broadcast_shape\u001b[0m\u001b[0;34m(\u001b[0m\u001b[0;34m*\u001b[0m\u001b[0margs\u001b[0m\u001b[0;34m)\u001b[0m\u001b[0;34m\u001b[0m\u001b[0m\n\u001b[0m\u001b[1;32m    253\u001b[0m \u001b[0;34m\u001b[0m\u001b[0m\n\u001b[1;32m    254\u001b[0m     \u001b[0;32mif\u001b[0m \u001b[0mall\u001b[0m\u001b[0;34m(\u001b[0m\u001b[0marray\u001b[0m\u001b[0;34m.\u001b[0m\u001b[0mshape\u001b[0m \u001b[0;34m==\u001b[0m \u001b[0mshape\u001b[0m \u001b[0;32mfor\u001b[0m \u001b[0marray\u001b[0m \u001b[0;32min\u001b[0m \u001b[0margs\u001b[0m\u001b[0;34m)\u001b[0m\u001b[0;34m:\u001b[0m\u001b[0;34m\u001b[0m\u001b[0m\n",
      "\u001b[0;32m/home/asatk/miniconda3/envs/cern2.7/lib/python2.7/site-packages/numpy/lib/stride_tricks.pyc\u001b[0m in \u001b[0;36m_broadcast_shape\u001b[0;34m(*args)\u001b[0m\n\u001b[1;32m    185\u001b[0m     \u001b[0;31m# use the old-iterator because np.nditer does not handle size 0 arrays\u001b[0m\u001b[0;34m\u001b[0m\u001b[0;34m\u001b[0m\u001b[0m\n\u001b[1;32m    186\u001b[0m     \u001b[0;31m# consistently\u001b[0m\u001b[0;34m\u001b[0m\u001b[0;34m\u001b[0m\u001b[0m\n\u001b[0;32m--> 187\u001b[0;31m     \u001b[0mb\u001b[0m \u001b[0;34m=\u001b[0m \u001b[0mnp\u001b[0m\u001b[0;34m.\u001b[0m\u001b[0mbroadcast\u001b[0m\u001b[0;34m(\u001b[0m\u001b[0;34m*\u001b[0m\u001b[0margs\u001b[0m\u001b[0;34m[\u001b[0m\u001b[0;34m:\u001b[0m\u001b[0;36m32\u001b[0m\u001b[0;34m]\u001b[0m\u001b[0;34m)\u001b[0m\u001b[0;34m\u001b[0m\u001b[0m\n\u001b[0m\u001b[1;32m    188\u001b[0m     \u001b[0;31m# unfortunately, it cannot handle 32 or more arguments directly\u001b[0m\u001b[0;34m\u001b[0m\u001b[0;34m\u001b[0m\u001b[0m\n\u001b[1;32m    189\u001b[0m     \u001b[0;32mfor\u001b[0m \u001b[0mpos\u001b[0m \u001b[0;32min\u001b[0m \u001b[0mrange\u001b[0m\u001b[0;34m(\u001b[0m\u001b[0;36m32\u001b[0m\u001b[0;34m,\u001b[0m \u001b[0mlen\u001b[0m\u001b[0;34m(\u001b[0m\u001b[0margs\u001b[0m\u001b[0;34m)\u001b[0m\u001b[0;34m,\u001b[0m \u001b[0;36m31\u001b[0m\u001b[0;34m)\u001b[0m\u001b[0;34m:\u001b[0m\u001b[0;34m\u001b[0m\u001b[0m\n",
      "\u001b[0;31mValueError\u001b[0m: shape mismatch: objects cannot be broadcast to a single shape"
     ]
    },
    {
     "data": {
      "image/png": "[encoded data removed]",
      "text/plain": [
       "<Figure size 576x216 with 1 Axes>"
      ]
     },
     "metadata": {
      "needs_background": "light"
     },
     "output_type": "display_data"
    }
   ],
   "source": [
    "# latent_space_samples = torch.randn(100,3)\n",
    "# generated_samples = generator(latent_space_samples)\n",
    "\n",
    "# generated_samples = generated_samples.detach()\n",
    "\n",
    "\n",
    "\n",
    "\n",
    "\n",
    "\n",
    "# #check if data is correctly transferred\n",
    "# fig = plt.figure(figsize=(8,3))\n",
    "# ax = fig.add_subplot(121,projection=\"3d\")\n",
    "\n",
    "# x = generated_samples[:,0]\n",
    "# y = generated_samples[:,1]\n",
    "\n",
    "# width = (xlo-xhi)/xbins\n",
    "# depth = (ylo-yhi)/ybins\n",
    "\n",
    "# bottom = np.zeros(xbins*ybins)\n",
    "# top = generated_samples[:,2]\n",
    "\n",
    "# ax.bar3d(x,y,bottom,width,depth,top,shade=True)\n",
    "# plt.show()"
   ]
  },
  {
   "cell_type": "code",
   "execution_count": null,
   "metadata": {},
   "outputs": [],
   "source": [
    "x_gen = generated_samples[:,0]\n",
    "y_gen = generated_samples[:,1]\n",
    "z_gen = generated_samples[:,2]\n",
    "\n",
    "z_new = np.zeros((len(x_gen),len(x_gen)))\n",
    "\n",
    "# show generated_samples\n",
    "\n",
    "for z_i in range(len(z_gen)):\n",
    "    x_v = x_gen[z_i]\n",
    "    y_v = y_gen[z_i]\n",
    "#     print \"\\n\",x_v,y_v,z_gen[z_i]\n",
    "#     print generated_samples[z_i,:]\n",
    "    z_new[z_i,z_i] = z_gen[z_i]\n",
    "\n",
    "fig = plt.figure(figsize=(20,8))\n",
    "\n",
    "\n",
    "\n",
    "ax1 = fig.add_subplot(1,2,1,projection=\"3d\")\n",
    "ax1.scatter3D(x_gen,y_gen,z_gen,c=z_gen,cmap=\"Greens\")\n",
    "# plt.contourf(x_gen,y_gen,z_new,40)\n",
    "\n",
    "ax2 = fig.add_subplot(1,2,2,projection=\"3d\")\n",
    "ax2.scatter3D(train_data[:,0],train_data[:,1],train_data[:,2],c=train_data[:,2],cmap=\"Blues\")"
   ]
  },
  {
   "cell_type": "code",
   "execution_count": 38,
   "metadata": {},
   "outputs": [
    {
     "name": "stderr",
     "output_type": "stream",
     "text": [
      "TROOT::Append:0: RuntimeWarning: Replacing existing TH1: hist_i_new (Potential memory leak).\n"
     ]
    }
   ],
   "source": [
    "hist_i_new = ROOT.TH2D(\"hist_i_new\",\"Generated Sample Distribution\",xbins,xlo,xhi,ybins,ylo,yhi)\n",
    "hist_i_new.SetFillColor(50)\n",
    "\n",
    "for i in range(len(x_gen)):\n",
    "    hist_i_new.Fill(x_gen[i],y_gen[i],z_gen[i])\n",
    "    \n",
    "\n",
    "hist_i_new.DrawNormalized(\"LEGO30\")\n",
    "c.Update()"
   ]
  },
  {
   "cell_type": "code",
   "execution_count": null,
   "metadata": {},
   "outputs": [],
   "source": []
  }
 ],
 "metadata": {
  "kernelspec": {
   "display_name": "Python 2.7.15 64-bit ('cern2.7': conda)",
   "language": "python",
   "name": "python271564bitcern27conda3e680a2a2f3244549cdb8769571713a7"
  },
  "language_info": {
   "codemirror_mode": {
    "name": "ipython",
    "version": 2
   },
   "file_extension": ".py",
   "mimetype": "text/x-python",
   "name": "python",
   "nbconvert_exporter": "python",
   "pygments_lexer": "ipython2",
   "version": "2.7.15"
  }
 },
 "nbformat": 4,
 "nbformat_minor": 2
}
