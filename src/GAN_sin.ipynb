{
 "cells": [
  {
   "cell_type": "code",
   "execution_count": 2,
   "metadata": {},
   "outputs": [],
   "source": [
    "import torch\n",
    "from torch import nn\n",
    "\n",
    "import math\n",
    "import matplotlib.pyplot as plt\n",
    "\n",
    "import GAN"
   ]
  },
  {
   "cell_type": "code",
   "execution_count": 3,
   "metadata": {},
   "outputs": [],
   "source": [
    "torch.manual_seed(100)\n",
    "\n",
    "train_data_length = 1024\n",
    "train_data = torch.zeros((train_data_length,2))\n",
    "train_data[:,0] = 2*math.pi*torch.rand(train_data_length)\n",
    "train_data[:,1] = torch.sin(train_data[:,0])\n",
    "train_labels = torch.zeros(train_data_length)\n",
    "train_set = [(train_data[i],train_labels[i]) for i in range(train_data_length)]"
   ]
  },
  {
   "cell_type": "code",
   "execution_count": 4,
   "metadata": {},
   "outputs": [
    {
     "data": {
      "text/plain": [
       "[<matplotlib.lines.Line2D at 0x7f17fc1c4cd0>]"
      ]
     },
     "execution_count": 4,
     "metadata": {},
     "output_type": "execute_result"
    },
    {
     "data": {
      "image/png": "[encoded data removed]",
      "text/plain": [
       "<Figure size 432x288 with 1 Axes>"
      ]
     },
     "metadata": {
      "needs_background": "light"
     },
     "output_type": "display_data"
    }
   ],
   "source": [
    "plt.plot(train_data[:,0],train_data[:,1],\".\")"
   ]
  },
  {
   "cell_type": "code",
   "execution_count": 5,
   "metadata": {},
   "outputs": [],
   "source": [
    "batch_size = 32\n",
    "train_loader = torch.utils.data.DataLoader(train_set,batch_size=batch_size,shuffle=True)\n",
    "\n",
    "generator = GAN.Generator()\n",
    "discriminator = GAN.Discriminator()\n",
    "\n",
    "lr = 0.001\n",
    "num_epochs = 300\n",
    "loss_function = nn.BCELoss()\n",
    "\n",
    "optimizer_generator = torch.optim.Adam(generator.parameters(),lr=lr)\n",
    "optimizer_discriminator = torch.optim.Adam(discriminator.parameters(),lr=lr)"
   ]
  },
  {
   "cell_type": "code",
   "execution_count": 6,
   "metadata": {},
   "outputs": [
    {
     "name": "stdout",
     "output_type": "stream",
     "text": [
      "Epoch: 0 Loss D.: 0.136029\n",
      "Epoch: 0 Loss G.: 2.367833\n",
      "Epoch: 10 Loss D.: 0.623182\n",
      "Epoch: 10 Loss G.: 1.329750\n",
      "Epoch: 20 Loss D.: 0.671042\n",
      "Epoch: 20 Loss G.: 1.000374\n",
      "Epoch: 30 Loss D.: 0.655065\n",
      "Epoch: 30 Loss G.: 0.778902\n",
      "Epoch: 40 Loss D.: 0.723470\n",
      "Epoch: 40 Loss G.: 0.871489\n",
      "Epoch: 50 Loss D.: 0.680701\n",
      "Epoch: 50 Loss G.: 0.725581\n",
      "Epoch: 60 Loss D.: 0.663409\n",
      "Epoch: 60 Loss G.: 0.831605\n",
      "Epoch: 70 Loss D.: 0.625131\n",
      "Epoch: 70 Loss G.: 0.788848\n",
      "Epoch: 80 Loss D.: 0.670299\n",
      "Epoch: 80 Loss G.: 0.785628\n",
      "Epoch: 90 Loss D.: 0.648611\n",
      "Epoch: 90 Loss G.: 0.771029\n",
      "Epoch: 100 Loss D.: 0.696849\n",
      "Epoch: 100 Loss G.: 0.672707\n",
      "Epoch: 110 Loss D.: 0.653999\n",
      "Epoch: 110 Loss G.: 0.680119\n",
      "Epoch: 120 Loss D.: 0.708382\n",
      "Epoch: 120 Loss G.: 0.692385\n",
      "Epoch: 130 Loss D.: 0.692276\n",
      "Epoch: 130 Loss G.: 0.686743\n",
      "Epoch: 140 Loss D.: 0.696464\n",
      "Epoch: 140 Loss G.: 0.692108\n",
      "Epoch: 150 Loss D.: 0.690968\n",
      "Epoch: 150 Loss G.: 0.697679\n",
      "Epoch: 160 Loss D.: 0.704800\n",
      "Epoch: 160 Loss G.: 0.680306\n",
      "Epoch: 170 Loss D.: 0.698798\n",
      "Epoch: 170 Loss G.: 0.677703\n",
      "Epoch: 180 Loss D.: 0.655227\n",
      "Epoch: 180 Loss G.: 0.819162\n",
      "Epoch: 190 Loss D.: 0.658258\n",
      "Epoch: 190 Loss G.: 0.761572\n",
      "Epoch: 200 Loss D.: 0.661071\n",
      "Epoch: 200 Loss G.: 0.806391\n",
      "Epoch: 210 Loss D.: 0.623537\n",
      "Epoch: 210 Loss G.: 0.945173\n",
      "Epoch: 220 Loss D.: 0.651129\n",
      "Epoch: 220 Loss G.: 0.790638\n",
      "Epoch: 230 Loss D.: 0.666637\n",
      "Epoch: 230 Loss G.: 0.775885\n",
      "Epoch: 240 Loss D.: 0.695413\n",
      "Epoch: 240 Loss G.: 0.735433\n",
      "Epoch: 250 Loss D.: 0.740523\n",
      "Epoch: 250 Loss G.: 0.639902\n",
      "Epoch: 260 Loss D.: 0.618934\n",
      "Epoch: 260 Loss G.: 1.059468\n",
      "Epoch: 270 Loss D.: 0.683840\n",
      "Epoch: 270 Loss G.: 0.795776\n",
      "Epoch: 280 Loss D.: 0.682436\n",
      "Epoch: 280 Loss G.: 0.923537\n",
      "Epoch: 290 Loss D.: 0.613731\n",
      "Epoch: 290 Loss G.: 0.779727\n"
     ]
    }
   ],
   "source": [
    "for epoch in range(num_epochs):\n",
    "    for n, (real_samples,_) in enumerate(train_loader):\n",
    "        real_samples_labels = torch.ones((batch_size,1))\n",
    "        latent_space_samples = torch.randn((batch_size,2))\n",
    "        generated_samples = generator(latent_space_samples)\n",
    "        generated_samples_labels = torch.zeros((batch_size,1))\n",
    "        all_samples = torch.cat((real_samples,generated_samples))\n",
    "        all_samples_labels = torch.cat((real_samples_labels,generated_samples_labels))\n",
    "\n",
    "        discriminator.zero_grad()\n",
    "        output_discriminator = discriminator(all_samples)\n",
    "        loss_discriminator = loss_function(output_discriminator,all_samples_labels)\n",
    "        loss_discriminator.backward()\n",
    "        optimizer_discriminator.step()\n",
    "\n",
    "        latent_space_samples = torch.randn((batch_size,2))\n",
    "\n",
    "        generator.zero_grad()\n",
    "        generated_samples = generator(latent_space_samples)\n",
    "        output_discriminator_generated = discriminator(generated_samples)\n",
    "        loss_generator = loss_function(output_discriminator_generated,real_samples_labels)\n",
    "        loss_generator.backward()\n",
    "        optimizer_generator.step()\n",
    "\n",
    "        if epoch % 10 == 0 and n == batch_size - 1:\n",
    "            print \"Epoch: %i Loss D.: %f\"%(epoch,loss_discriminator)\n",
    "            print \"Epoch: %i Loss G.: %f\"%(epoch,loss_generator)"
   ]
  },
  {
   "cell_type": "code",
   "execution_count": 7,
   "metadata": {},
   "outputs": [
    {
     "data": {
      "text/plain": [
       "[<matplotlib.lines.Line2D at 0x7f17fc0c1490>]"
      ]
     },
     "execution_count": 7,
     "metadata": {},
     "output_type": "execute_result"
    },
    {
     "data": {
      "image/png": "[encoded data removed]",
      "text/plain": [
       "<Figure size 432x288 with 1 Axes>"
      ]
     },
     "metadata": {
      "needs_background": "light"
     },
     "output_type": "display_data"
    }
   ],
   "source": [
    "latent_space_samples = torch.randn(100,2)\n",
    "generated_samples = generator(latent_space_samples)\n",
    "\n",
    "generated_samples = generated_samples.detach()\n",
    "plt.plot(generated_samples[:,0],generated_samples[:,1],\".\")"
   ]
  },
  {
   "cell_type": "code",
   "execution_count": null,
   "metadata": {},
   "outputs": [],
   "source": []
  }
 ],
 "metadata": {
  "kernelspec": {
   "display_name": "Python 2.7.15 64-bit ('cern2.7': conda)",
   "language": "python",
   "name": "python271564bitcern27conda3e680a2a2f3244549cdb8769571713a7"
  },
  "language_info": {
   "codemirror_mode": {
    "name": "ipython",
    "version": 2
   },
   "file_extension": ".py",
   "mimetype": "text/x-python",
   "name": "python",
   "nbconvert_exporter": "python",
   "pygments_lexer": "ipython2",
   "version": "2.7.15"
  }
 },
 "nbformat": 4,
 "nbformat_minor": 2
}
